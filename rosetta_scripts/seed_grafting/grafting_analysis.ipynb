{
 "cells": [
  {
   "cell_type": "markdown",
   "metadata": {},
   "source": [
    "# Loading environment"
   ]
  },
  {
   "cell_type": "code",
   "execution_count": 1,
   "metadata": {},
   "outputs": [
    {
     "name": "stdout",
     "output_type": "stream",
     "text": [
      "Populating the interactive namespace from numpy and matplotlib\n"
     ]
    }
   ],
   "source": [
    "%pylab inline\n",
    "import numpy as np\n",
    "import pandas as pd\n",
    "import seaborn as sns\n",
    "import matplotlib.pyplot as plt\n",
    "from matplotlib.pyplot import show\n",
    "import os, sys\n",
    "import subprocess as sp"
   ]
  },
  {
   "cell_type": "markdown",
   "metadata": {},
   "source": [
    "# Import of data file"
   ]
  },
  {
   "cell_type": "code",
   "execution_count": 2,
   "metadata": {},
   "outputs": [
    {
     "name": "stdout",
     "output_type": "stream",
     "text": [
      "Dataset size: 68\n"
     ]
    }
   ],
   "source": [
    "df=pd.DataFrame([])\n",
    "score_file=r\"all_score.sc\"\n",
    "\n",
    "if (os.path.exists(score_file)):\n",
    "    df1 = pd.read_csv(score_file, sep='\\t').dropna()\n",
    "    df1 = df1[df1.total_score != 'total_score']\n",
    "    df1 = df1.applymap(lambda x : pd.to_numeric(x,errors='ignore'))\n",
    "    df = pd.concat([df,df1])\n",
    "    df['ddg-per-sasa'] = (df['ddG']*1000)/df['sasa']\n",
    "    df['hb-per-sasa'] = (df['hbonds']*1000)/df['sasa']\n",
    "    df['bunsh-per-sasa'] = (df['buried_unsat_hbonds']*1000)/df['sasa']\n",
    "    df['bunsh2-per-sasa'] = (df['buried_unsat_hbonds2']*1000)/df['sasa']\n",
    "\n",
    "print('Dataset size:', df.shape[0])  "
   ]
  },
  {
   "cell_type": "markdown",
   "metadata": {},
   "source": [
    "It is recommended to run an AlphaFold2 (or ColabFold) prediction of all monomeric designs to ensure a proper selection. Uncomment the following lines if you want to load your AlphaFold2 data. "
   ]
  },
  {
   "cell_type": "code",
   "execution_count": 3,
   "metadata": {},
   "outputs": [],
   "source": [
    "#AF2_file='AF2.csv'\n",
    "#dico_rmsd={}\n",
    "#df2 = pd.read_csv(AF_file, sep=';').dropna()\n",
    "#for idx in df2.index:\n",
    "#    name=df2.loc[idx,'design']\n",
    "#    rmsd=df2.loc[idx,'rmsd']\n",
    "#    dico_rmsd[name]=rmsd\n",
    "#df['af2rmsd'] = df['description'].map(dico_rmsd)"
   ]
  },
  {
   "cell_type": "code",
   "execution_count": 4,
   "metadata": {},
   "outputs": [
    {
     "data": {
      "text/html": [
       "<div>\n",
       "<style scoped>\n",
       "    .dataframe tbody tr th:only-of-type {\n",
       "        vertical-align: middle;\n",
       "    }\n",
       "\n",
       "    .dataframe tbody tr th {\n",
       "        vertical-align: top;\n",
       "    }\n",
       "\n",
       "    .dataframe thead th {\n",
       "        text-align: right;\n",
       "    }\n",
       "</style>\n",
       "<table border=\"1\" class=\"dataframe\">\n",
       "  <thead>\n",
       "    <tr style=\"text-align: right;\">\n",
       "      <th></th>\n",
       "      <th>total_score</th>\n",
       "      <th>buried_unsat_hbonds</th>\n",
       "      <th>buried_unsat_hbonds2</th>\n",
       "      <th>sasa</th>\n",
       "      <th>sc</th>\n",
       "      <th>hbonds</th>\n",
       "      <th>ddG</th>\n",
       "      <th>graft_RMSD</th>\n",
       "      <th>array</th>\n",
       "      <th>seed</th>\n",
       "      <th>description</th>\n",
       "      <th>ddg-per-sasa</th>\n",
       "      <th>hb-per-sasa</th>\n",
       "      <th>bunsh-per-sasa</th>\n",
       "      <th>bunsh2-per-sasa</th>\n",
       "    </tr>\n",
       "  </thead>\n",
       "  <tbody>\n",
       "    <tr>\n",
       "      <th>45</th>\n",
       "      <td>-520.759</td>\n",
       "      <td>0.0</td>\n",
       "      <td>3.0</td>\n",
       "      <td>1302.631</td>\n",
       "      <td>0.680</td>\n",
       "      <td>13.0</td>\n",
       "      <td>-21.675</td>\n",
       "      <td>0.679</td>\n",
       "      <td>3</td>\n",
       "      <td>2</td>\n",
       "      <td>EEH_1.0_06_S2_0002</td>\n",
       "      <td>-16.639401</td>\n",
       "      <td>9.979802</td>\n",
       "      <td>0.0</td>\n",
       "      <td>2.303031</td>\n",
       "    </tr>\n",
       "    <tr>\n",
       "      <th>49</th>\n",
       "      <td>-581.388</td>\n",
       "      <td>0.0</td>\n",
       "      <td>3.0</td>\n",
       "      <td>1169.538</td>\n",
       "      <td>0.686</td>\n",
       "      <td>12.0</td>\n",
       "      <td>-20.210</td>\n",
       "      <td>0.694</td>\n",
       "      <td>157</td>\n",
       "      <td>2</td>\n",
       "      <td>ems_bGwo_45_0001_S2</td>\n",
       "      <td>-17.280328</td>\n",
       "      <td>10.260462</td>\n",
       "      <td>0.0</td>\n",
       "      <td>2.565115</td>\n",
       "    </tr>\n",
       "    <tr>\n",
       "      <th>39</th>\n",
       "      <td>-472.530</td>\n",
       "      <td>0.0</td>\n",
       "      <td>2.0</td>\n",
       "      <td>1431.111</td>\n",
       "      <td>0.737</td>\n",
       "      <td>13.0</td>\n",
       "      <td>-28.748</td>\n",
       "      <td>0.605</td>\n",
       "      <td>379</td>\n",
       "      <td>1</td>\n",
       "      <td>HEEH_rd4_0758_S1_0002</td>\n",
       "      <td>-20.087890</td>\n",
       "      <td>9.083852</td>\n",
       "      <td>0.0</td>\n",
       "      <td>1.397516</td>\n",
       "    </tr>\n",
       "    <tr>\n",
       "      <th>59</th>\n",
       "      <td>-531.380</td>\n",
       "      <td>0.0</td>\n",
       "      <td>5.0</td>\n",
       "      <td>1701.771</td>\n",
       "      <td>0.674</td>\n",
       "      <td>15.0</td>\n",
       "      <td>-20.144</td>\n",
       "      <td>0.557</td>\n",
       "      <td>302</td>\n",
       "      <td>2</td>\n",
       "      <td>4IKGA_S2</td>\n",
       "      <td>-11.837080</td>\n",
       "      <td>8.814347</td>\n",
       "      <td>0.0</td>\n",
       "      <td>2.938116</td>\n",
       "    </tr>\n",
       "    <tr>\n",
       "      <th>23</th>\n",
       "      <td>-543.859</td>\n",
       "      <td>0.0</td>\n",
       "      <td>5.0</td>\n",
       "      <td>1381.039</td>\n",
       "      <td>0.729</td>\n",
       "      <td>14.0</td>\n",
       "      <td>-22.451</td>\n",
       "      <td>0.565</td>\n",
       "      <td>228</td>\n",
       "      <td>1</td>\n",
       "      <td>1CM2A_S1</td>\n",
       "      <td>-16.256601</td>\n",
       "      <td>10.137295</td>\n",
       "      <td>0.0</td>\n",
       "      <td>3.620463</td>\n",
       "    </tr>\n",
       "  </tbody>\n",
       "</table>\n",
       "</div>"
      ],
      "text/plain": [
       "    total_score  buried_unsat_hbonds  buried_unsat_hbonds2      sasa     sc  \\\n",
       "45     -520.759                  0.0                   3.0  1302.631  0.680   \n",
       "49     -581.388                  0.0                   3.0  1169.538  0.686   \n",
       "39     -472.530                  0.0                   2.0  1431.111  0.737   \n",
       "59     -531.380                  0.0                   5.0  1701.771  0.674   \n",
       "23     -543.859                  0.0                   5.0  1381.039  0.729   \n",
       "\n",
       "    hbonds     ddG  graft_RMSD  array  seed            description  \\\n",
       "45    13.0 -21.675       0.679      3     2     EEH_1.0_06_S2_0002   \n",
       "49    12.0 -20.210       0.694    157     2    ems_bGwo_45_0001_S2   \n",
       "39    13.0 -28.748       0.605    379     1  HEEH_rd4_0758_S1_0002   \n",
       "59    15.0 -20.144       0.557    302     2               4IKGA_S2   \n",
       "23    14.0 -22.451       0.565    228     1               1CM2A_S1   \n",
       "\n",
       "    ddg-per-sasa  hb-per-sasa  bunsh-per-sasa  bunsh2-per-sasa  \n",
       "45    -16.639401     9.979802             0.0         2.303031  \n",
       "49    -17.280328    10.260462             0.0         2.565115  \n",
       "39    -20.087890     9.083852             0.0         1.397516  \n",
       "59    -11.837080     8.814347             0.0         2.938116  \n",
       "23    -16.256601    10.137295             0.0         3.620463  "
      ]
     },
     "execution_count": 4,
     "metadata": {},
     "output_type": "execute_result"
    }
   ],
   "source": [
    "df = df.sort_values('buried_unsat_hbonds', ascending=True)\n",
    "df.head(5)"
   ]
  },
  {
   "cell_type": "markdown",
   "metadata": {},
   "source": [
    "# Metrics analysis"
   ]
  },
  {
   "cell_type": "code",
   "execution_count": 5,
   "metadata": {
    "scrolled": false
   },
   "outputs": [
    {
     "data": {
      "image/png": "[encoded data removed]",
      "text/plain": [
       "<Figure size 432x288 with 1 Axes>"
      ]
     },
     "metadata": {
      "needs_background": "light"
     },
     "output_type": "display_data"
    },
    {
     "name": "stdout",
     "output_type": "stream",
     "text": [
      "median:1238.7975000000001\n"
     ]
    },
    {
     "data": {
      "image/png": "[encoded data removed]",
      "text/plain": [
       "<Figure size 432x288 with 1 Axes>"
      ]
     },
     "metadata": {
      "needs_background": "light"
     },
     "output_type": "display_data"
    },
    {
     "name": "stdout",
     "output_type": "stream",
     "text": [
      "median:-23.712\n"
     ]
    },
    {
     "data": {
      "image/png": "[encoded data removed]",
      "text/plain": [
       "<Figure size 432x288 with 1 Axes>"
      ]
     },
     "metadata": {
      "needs_background": "light"
     },
     "output_type": "display_data"
    },
    {
     "name": "stdout",
     "output_type": "stream",
     "text": [
      "median:-18.737760472819794\n"
     ]
    },
    {
     "data": {
      "image/png": "[encoded data removed]",
      "text/plain": [
       "<Figure size 432x288 with 1 Axes>"
      ]
     },
     "metadata": {
      "needs_background": "light"
     },
     "output_type": "display_data"
    },
    {
     "name": "stdout",
     "output_type": "stream",
     "text": [
      "median:0.687\n"
     ]
    },
    {
     "data": {
      "image/png": "[encoded data removed]",
      "text/plain": [
       "<Figure size 432x288 with 1 Axes>"
      ]
     },
     "metadata": {
      "needs_background": "light"
     },
     "output_type": "display_data"
    },
    {
     "name": "stdout",
     "output_type": "stream",
     "text": [
      "median:0.5565\n"
     ]
    },
    {
     "data": {
      "image/png": "[encoded data removed]",
      "text/plain": [
       "<Figure size 432x288 with 1 Axes>"
      ]
     },
     "metadata": {
      "needs_background": "light"
     },
     "output_type": "display_data"
    },
    {
     "name": "stdout",
     "output_type": "stream",
     "text": [
      "median:-511.34250000000003\n"
     ]
    },
    {
     "data": {
      "image/png": "[encoded data removed]",
      "text/plain": [
       "<Figure size 432x288 with 1 Axes>"
      ]
     },
     "metadata": {
      "needs_background": "light"
     },
     "output_type": "display_data"
    },
    {
     "name": "stdout",
     "output_type": "stream",
     "text": [
      "median:1.0\n"
     ]
    },
    {
     "data": {
      "image/png": "[encoded data removed]",
      "text/plain": [
       "<Figure size 432x288 with 1 Axes>"
      ]
     },
     "metadata": {
      "needs_background": "light"
     },
     "output_type": "display_data"
    },
    {
     "name": "stdout",
     "output_type": "stream",
     "text": [
      "median:4.0\n"
     ]
    },
    {
     "data": {
      "image/png": "[encoded data removed]",
      "text/plain": [
       "<Figure size 432x288 with 1 Axes>"
      ]
     },
     "metadata": {
      "needs_background": "light"
     },
     "output_type": "display_data"
    },
    {
     "name": "stdout",
     "output_type": "stream",
     "text": [
      "median:11.0\n"
     ]
    }
   ],
   "source": [
    "graph1 = sns.histplot(df[df['total_score']<0]['sasa'], kde=True)\n",
    "graph1.axvline(df['sasa'].median(), color='red')\n",
    "plt.show()\n",
    "print('median:'+ str(df['sasa'].median()))\n",
    "\n",
    "graph3 = sns.histplot(df[df['total_score']<0]['ddG'], kde=True)\n",
    "graph3.axvline(df['ddG'].median(), color='red')\n",
    "plt.show()\n",
    "print('median:'+ str(df['ddG'].median()))\n",
    "\n",
    "graph4 = sns.histplot(df[df['total_score']<0]['ddg-per-sasa'], kde=True)\n",
    "graph4.axvline(df['ddg-per-sasa'].median(), color='red')\n",
    "plt.show()\n",
    "print('median:'+ str(df['ddg-per-sasa'].median()))\n",
    "\n",
    "graph5 = sns.histplot(df[df['total_score']<0]['sc'], kde=True)\n",
    "graph5.axvline(df['sc'].median(), color='red')\n",
    "plt.show()\n",
    "print('median:'+ str(df['sc'].median()))\n",
    "\n",
    "graph6 = sns.histplot(df[df['total_score']<0]['graft_RMSD'], kde=True)\n",
    "graph6.axvline(df['graft_RMSD'].median(), color='red')\n",
    "plt.show()\n",
    "print('median:'+ str(df['graft_RMSD'].median()))\n",
    "\n",
    "graph7 = sns.histplot(df[df['total_score']<0]['total_score'], kde=True)\n",
    "graph7.axvline(df['total_score'].median(), color='red')\n",
    "plt.show()\n",
    "print('median:'+ str(df['total_score'].median()))\n",
    "\n",
    "graph8 = sns.histplot(df[df['total_score']<0]['buried_unsat_hbonds'], kde=True)\n",
    "graph8.axvline(df['buried_unsat_hbonds'].median(), color='red')\n",
    "plt.show()\n",
    "print('median:'+ str(df['buried_unsat_hbonds'].median()))\n",
    "\n",
    "graph9 = sns.histplot(df[df['total_score']<0]['buried_unsat_hbonds2'], kde=True)\n",
    "graph9.axvline(df['buried_unsat_hbonds2'].median(), color='red')\n",
    "plt.show()\n",
    "print('median:'+ str(df['buried_unsat_hbonds2'].median()))\n",
    "\n",
    "graph10 = sns.histplot(df[df['total_score']<0]['hbonds'], kde=True)\n",
    "graph10.axvline(df['hbonds'].median(), color='red')\n",
    "plt.show()\n",
    "print('median:'+ str(df['hbonds'].median()))\n",
    "\n",
    "#graph11 = sns.histplot(df[df['total_score']<0]['af2rmsd'], kde=True)\n",
    "#graph11.axvline(df['af2rmsd'].median(), color='red')\n",
    "#plt.show()\n",
    "#print('median:'+ str(df['af2rmsd'].median()))"
   ]
  },
  {
   "cell_type": "code",
   "execution_count": 6,
   "metadata": {},
   "outputs": [
    {
     "name": "stdout",
     "output_type": "stream",
     "text": [
      "Total number of designs: 68\n",
      "{1: 42, 2: 26}\n"
     ]
    },
    {
     "data": {
      "image/png": "[encoded data removed]",
      "text/plain": [
       "<Figure size 1440x360 with 1 Axes>"
      ]
     },
     "metadata": {
      "needs_background": "light"
     },
     "output_type": "display_data"
    }
   ],
   "source": [
    "totalseed=df['seed'].max()\n",
    "dico_nseed={}\n",
    "\n",
    "for i in range(1,totalseed+1,1):\n",
    "    subdf=df[df['seed']==i]\n",
    "    nseed=subdf.shape[0]\n",
    "    dico_nseed[i]=nseed\n",
    "print('Total number of designs: {}'.format(df.shape[0]))\n",
    "\n",
    "fig= plt.figure(figsize=(20,5))\n",
    "keys = list(dico_nseed.keys())\n",
    "vals = [dico_nseed[k] for k in keys]\n",
    "sns.barplot(x=keys, y = vals)\n",
    "plt.show\n",
    "\n",
    "print(dico_nseed)"
   ]
  },
  {
   "cell_type": "markdown",
   "metadata": {},
   "source": [
    "# Selection of best designs"
   ]
  },
  {
   "cell_type": "markdown",
   "metadata": {},
   "source": [
    "The selection aims to obtain a similar amount of designs per seed, i.e. avoiding one grafted seeds over/under-representation. Therefore, different cutoffs can be set: For one specific seed, if too many designs are selected based on cutoff 1, then cutoff 2 applies, and so on until the number of designs is below the maximum allowed for one seed. However, if the number of designs falls under the minimum, then the previous cutoff is privileged. \n",
    "\n",
    "The cutoffs contains important metrics like the dSASA-normalized binding energy (ddG-per-SASA), the shape complementarity (SC), the number of buried unsatisfied polar atoms, the number of interface hydrogen bonds and the buried solvant-accessible surface area. It is advised to set the values empirically according to the number of designs you aim for."
   ]
  },
  {
   "cell_type": "markdown",
   "metadata": {},
   "source": [
    "### Setting the cutoffs\n",
    "Please modify the values of the following block"
   ]
  },
  {
   "cell_type": "code",
   "execution_count": 7,
   "metadata": {},
   "outputs": [],
   "source": [
    "cutoff1={'ddg-per-sasa': -21.5, \n",
    "         'sc': 0.67,\n",
    "         'buried_unsat_hbonds': 2, \n",
    "         'hbonds': 5,\n",
    "         'sasa': 1200\n",
    "         #,'af2rmsd': 1\n",
    "        }\n",
    "\n",
    "cutoff2={'ddg-per-sasa': -23, \n",
    "         'sc': 0.699,\n",
    "         'buried_unsat_hbonds': 1, \n",
    "         'hbonds': 7,\n",
    "         'sasa': 1270\n",
    "         #,'af2rmsd': 1\n",
    "        }\n",
    "\n",
    "cutoff3={'ddg-per-sasa': -25, \n",
    "         'sc': 0.71,\n",
    "         'buried_unsat_hbonds': 1, \n",
    "         'hbonds': 9,\n",
    "         'sasa': 1335\n",
    "         #,'af2rmsd': 1\n",
    "        }\n",
    "\n",
    "cutoff4={'ddg-per-sasa': -27.7, \n",
    "         'sc': 0.73,\n",
    "         'buried_unsat_hbonds': 1, \n",
    "         'hbonds': 10,\n",
    "         'sasa': 1370\n",
    "         #,'af2rmsd': 1\n",
    "        }\n",
    "\n",
    "cutoff5={'ddg-per-sasa': -30, \n",
    "         'sc': 0.72,\n",
    "         'buried_unsat_hbonds': 0, \n",
    "         'hbonds': 11,\n",
    "         'sasa': 1390\n",
    "         #,'af2rmsd': 1\n",
    "        }\n",
    "\n",
    "mindes=5\n",
    "maxdes=40"
   ]
  },
  {
   "cell_type": "code",
   "execution_count": 8,
   "metadata": {},
   "outputs": [],
   "source": [
    "def create_preselection(dico_cutoff, df2, seedid):\n",
    "    preselect=df2[(df2['ddg-per-sasa']<int(dico_cutoff['ddg-per-sasa'])) &\n",
    "              (df2['sc']>float(dico_cutoff['sc'])) &\n",
    "              (df2['buried_unsat_hbonds']<=int(dico_cutoff['buried_unsat_hbonds'])) & \n",
    "              (df2['hbonds']>=int(dico_cutoff['hbonds'])) & \n",
    "              (df2['sasa']>=int(dico_cutoff['sasa'])) &\n",
    "              (df2['seed']==int(seedid))\n",
    "              # & (df2['af2rmsd']<=int(dico_cutoff['af2rmsd']))\n",
    "              ]\n",
    "    return preselect"
   ]
  },
  {
   "cell_type": "markdown",
   "metadata": {},
   "source": [
    "### Making the selection"
   ]
  },
  {
   "cell_type": "code",
   "execution_count": 9,
   "metadata": {},
   "outputs": [
    {
     "name": "stdout",
     "output_type": "stream",
     "text": [
      "Seed 1 : cutoff_1 ( 3 )\n",
      "Seed 2 : cutoff_1 ( 3 )\n",
      "\n",
      "Number of designs selected: 6\n",
      "\n",
      "{'None': 0, 'Not passed': 0, 'Cutoff 1': 2, 'Cutoff 2': 0, 'Cutoff 3': 0, 'Cutoff 4': 0, 'Cutoff 5': 0, 'Over': 0}\n"
     ]
    },
    {
     "data": {
      "text/html": [
       "<div>\n",
       "<style scoped>\n",
       "    .dataframe tbody tr th:only-of-type {\n",
       "        vertical-align: middle;\n",
       "    }\n",
       "\n",
       "    .dataframe tbody tr th {\n",
       "        vertical-align: top;\n",
       "    }\n",
       "\n",
       "    .dataframe thead th {\n",
       "        text-align: right;\n",
       "    }\n",
       "</style>\n",
       "<table border=\"1\" class=\"dataframe\">\n",
       "  <thead>\n",
       "    <tr style=\"text-align: right;\">\n",
       "      <th></th>\n",
       "      <th>total_score</th>\n",
       "      <th>buried_unsat_hbonds</th>\n",
       "      <th>buried_unsat_hbonds2</th>\n",
       "      <th>sasa</th>\n",
       "      <th>sc</th>\n",
       "      <th>hbonds</th>\n",
       "      <th>ddG</th>\n",
       "      <th>graft_RMSD</th>\n",
       "      <th>array</th>\n",
       "      <th>seed</th>\n",
       "      <th>description</th>\n",
       "      <th>ddg-per-sasa</th>\n",
       "      <th>hb-per-sasa</th>\n",
       "      <th>bunsh-per-sasa</th>\n",
       "      <th>bunsh2-per-sasa</th>\n",
       "    </tr>\n",
       "  </thead>\n",
       "  <tbody>\n",
       "    <tr>\n",
       "      <th>1</th>\n",
       "      <td>-436.302</td>\n",
       "      <td>0.0</td>\n",
       "      <td>3.0</td>\n",
       "      <td>1216.499</td>\n",
       "      <td>0.682</td>\n",
       "      <td>8.0</td>\n",
       "      <td>-26.253</td>\n",
       "      <td>0.512</td>\n",
       "      <td>2</td>\n",
       "      <td>1</td>\n",
       "      <td>EEH_1.0_01_S1_0002</td>\n",
       "      <td>-21.580782</td>\n",
       "      <td>6.576249</td>\n",
       "      <td>0.000000</td>\n",
       "      <td>2.466093</td>\n",
       "    </tr>\n",
       "    <tr>\n",
       "      <th>36</th>\n",
       "      <td>-509.124</td>\n",
       "      <td>1.0</td>\n",
       "      <td>5.0</td>\n",
       "      <td>1234.326</td>\n",
       "      <td>0.683</td>\n",
       "      <td>9.0</td>\n",
       "      <td>-27.539</td>\n",
       "      <td>0.589</td>\n",
       "      <td>378</td>\n",
       "      <td>1</td>\n",
       "      <td>HEEH_rd4_0024_S1</td>\n",
       "      <td>-22.310962</td>\n",
       "      <td>7.291429</td>\n",
       "      <td>0.810159</td>\n",
       "      <td>4.050794</td>\n",
       "    </tr>\n",
       "    <tr>\n",
       "      <th>41</th>\n",
       "      <td>-483.736</td>\n",
       "      <td>2.0</td>\n",
       "      <td>4.0</td>\n",
       "      <td>1243.269</td>\n",
       "      <td>0.681</td>\n",
       "      <td>8.0</td>\n",
       "      <td>-27.954</td>\n",
       "      <td>0.605</td>\n",
       "      <td>379</td>\n",
       "      <td>1</td>\n",
       "      <td>HEEH_rd4_0930_S1</td>\n",
       "      <td>-22.484273</td>\n",
       "      <td>6.434649</td>\n",
       "      <td>1.608662</td>\n",
       "      <td>3.217325</td>\n",
       "    </tr>\n",
       "    <tr>\n",
       "      <th>50</th>\n",
       "      <td>-623.719</td>\n",
       "      <td>0.0</td>\n",
       "      <td>4.0</td>\n",
       "      <td>1487.338</td>\n",
       "      <td>0.723</td>\n",
       "      <td>13.0</td>\n",
       "      <td>-35.432</td>\n",
       "      <td>0.397</td>\n",
       "      <td>228</td>\n",
       "      <td>2</td>\n",
       "      <td>1CM2A_S2</td>\n",
       "      <td>-23.822426</td>\n",
       "      <td>8.740448</td>\n",
       "      <td>0.000000</td>\n",
       "      <td>2.689369</td>\n",
       "    </tr>\n",
       "    <tr>\n",
       "      <th>60</th>\n",
       "      <td>-653.412</td>\n",
       "      <td>1.0</td>\n",
       "      <td>4.0</td>\n",
       "      <td>1331.050</td>\n",
       "      <td>0.680</td>\n",
       "      <td>11.0</td>\n",
       "      <td>-28.061</td>\n",
       "      <td>0.419</td>\n",
       "      <td>303</td>\n",
       "      <td>2</td>\n",
       "      <td>4JRWA_S2</td>\n",
       "      <td>-21.081853</td>\n",
       "      <td>8.264152</td>\n",
       "      <td>0.751287</td>\n",
       "      <td>3.005146</td>\n",
       "    </tr>\n",
       "  </tbody>\n",
       "</table>\n",
       "</div>"
      ],
      "text/plain": [
       "    total_score  buried_unsat_hbonds  buried_unsat_hbonds2      sasa     sc  \\\n",
       "1      -436.302                  0.0                   3.0  1216.499  0.682   \n",
       "36     -509.124                  1.0                   5.0  1234.326  0.683   \n",
       "41     -483.736                  2.0                   4.0  1243.269  0.681   \n",
       "50     -623.719                  0.0                   4.0  1487.338  0.723   \n",
       "60     -653.412                  1.0                   4.0  1331.050  0.680   \n",
       "\n",
       "    hbonds     ddG  graft_RMSD  array  seed         description  ddg-per-sasa  \\\n",
       "1      8.0 -26.253       0.512      2     1  EEH_1.0_01_S1_0002    -21.580782   \n",
       "36     9.0 -27.539       0.589    378     1    HEEH_rd4_0024_S1    -22.310962   \n",
       "41     8.0 -27.954       0.605    379     1    HEEH_rd4_0930_S1    -22.484273   \n",
       "50    13.0 -35.432       0.397    228     2            1CM2A_S2    -23.822426   \n",
       "60    11.0 -28.061       0.419    303     2            4JRWA_S2    -21.081853   \n",
       "\n",
       "    hb-per-sasa  bunsh-per-sasa  bunsh2-per-sasa  \n",
       "1      6.576249        0.000000         2.466093  \n",
       "36     7.291429        0.810159         4.050794  \n",
       "41     6.434649        1.608662         3.217325  \n",
       "50     8.740448        0.000000         2.689369  \n",
       "60     8.264152        0.751287         3.005146  "
      ]
     },
     "execution_count": 9,
     "metadata": {},
     "output_type": "execute_result"
    },
    {
     "data": {
      "image/png": "[encoded data removed]",
      "text/plain": [
       "<Figure size 1440x360 with 1 Axes>"
      ]
     },
     "metadata": {
      "needs_background": "light"
     },
     "output_type": "display_data"
    }
   ],
   "source": [
    "final_select=pd.DataFrame([])\n",
    "cutoff_counts={'None':0,'Not passed':0, 'Cutoff 1':0, 'Cutoff 2':0, 'Cutoff 3':0,'Cutoff 4':0, 'Cutoff 5':0, 'Over':0}\n",
    "for i in range(1,totalseed+1,1):\n",
    "    preselect=df[df['seed']==i]\n",
    "    \n",
    "    if dico_nseed[i]==0:\n",
    "        print('Seed',i,' : no grafted design for this seed')\n",
    "        cutoff_counts['None']+=1\n",
    "        continue\n",
    "        \n",
    "    if dico_nseed[i]<mindes:\n",
    "        preselect=df[df['seed']==i]\n",
    "        final_select = pd.concat([final_select, preselect])\n",
    "        print('Seed',i,': too few designs => everything taken (',dico_nseed[i],')')\n",
    "        cutoff_counts['Not passed']+=1\n",
    "        continue\n",
    "        \n",
    "    previous_preselect=preselect\n",
    "    preselect=create_preselection(cutoff1, df, i)\n",
    "       \n",
    "    if (preselect.shape[0] <= maxdes):\n",
    "        final_select = pd.concat([final_select, preselect])\n",
    "        print('Seed',i, ': cutoff_1 (',preselect.shape[0],')')\n",
    "        cutoff_counts['Cutoff 1']+=1\n",
    "        if(preselect.shape[0]==0):\n",
    "            cutoff_counts['Not passed']+=1\n",
    "        continue\n",
    "    \n",
    "    previous_preselect=preselect    \n",
    "    preselect=create_preselection(cutoff2, df, i)\n",
    "       \n",
    "    if (preselect.shape[0]<=mindes):\n",
    "        final_select = pd.concat([final_select, previous_preselect])\n",
    "        print('Seed',i,': too few designs with cutoff_2 ==> cutoff_1 instead (',previous_preselect.shape[0],')')\n",
    "        cutoff_counts['Cutoff 1']+=1\n",
    "        continue\n",
    "    elif (preselect.shape[0]<=maxdes):\n",
    "        final_select = pd.concat([final_select, preselect])\n",
    "        print('Seed',i, ' : cutoff_2 (',preselect.shape[0],')')\n",
    "        cutoff_counts['Cutoff 2']+=1\n",
    "        continue\n",
    "    \n",
    "    previous_preselect=preselect\n",
    "    preselect=create_preselection(cutoff3, df, i)\n",
    "    \n",
    "    if (preselect.shape[0]<=mindes):\n",
    "        final_select = pd.concat([final_select, previous_preselect])\n",
    "        print('Seed',i,': too few designs with cutoff_3 ==> cutoff_2 instead (',previous_preselect.shape[0],')')\n",
    "        cutoff_counts['Cutoff 2']+=1\n",
    "        continue\n",
    "    elif (preselect.shape[0]<=maxdes):\n",
    "        final_select = pd.concat([final_select, preselect])\n",
    "        print('Seed',i, ' : cutoff_3 (',preselect.shape[0],')')\n",
    "        cutoff_counts['Cutoff 3']+=1\n",
    "        continue\n",
    "    \n",
    "    previous_preselect=preselect\n",
    "    preselect=create_preselection(cutoff4, df, i)\n",
    "    \n",
    "    if (preselect.shape[0]<=mindes):\n",
    "        final_select = pd.concat([final_select, previous_preselect])\n",
    "        print('Seed',i,': too few designs with cutoff_4 ==> cutoff_3 instead (',previous_preselect.shape[0],')')\n",
    "        cutoff_counts['Cutoff 3']+=1\n",
    "        continue\n",
    "    elif (preselect.shape[0]<=maxdes):\n",
    "        final_select = pd.concat([final_select, preselect])\n",
    "        print('Seed',i, ' : cutoff_4 (',preselect.shape[0],')')\n",
    "        cutoff_counts['Cutoff 4']+=1\n",
    "        continue\n",
    "    \n",
    "    previous_preselect=preselect\n",
    "    preselect=create_preselection(cutoff5, df, i)\n",
    "    \n",
    "    if (preselect.shape[0]<=mindes):\n",
    "        final_select = pd.concat([final_select, previous_preselect])\n",
    "        print('Seed',i,': too few designs with cutoff_5 ==> cutoff_4 instead (',previous_preselect.shape[0],')')\n",
    "        cutoff_counts['Cutoff 4']+=1\n",
    "        continue\n",
    "    elif (preselect.shape[0]<=maxdes):\n",
    "        final_select = pd.concat([final_select, preselect])\n",
    "        print('Seed',i, ' : cutoff_5 (',preselect.shape[0],')')\n",
    "        cutoff_counts['Cutoff 5']+=1\n",
    "        continue\n",
    "    else:\n",
    "        print('Seed',i,': too many designs with strictest cutoff (',previous_preselect.shape[0],') !')\n",
    "        cutoff_counts['Over']+=1\n",
    "    \n",
    "    print(preselect.shape[0]) \n",
    "        \n",
    "print('\\nNumber of designs selected: {}\\n'.format(final_select.shape[0]))\n",
    "\n",
    "select=final_select\n",
    "\n",
    "fig= plt.figure(figsize=(20,5))\n",
    "select_count=final_select['seed'].value_counts().to_frame().sort_index()\n",
    "sns.barplot(x=select_count.index, y=select_count['seed'])\n",
    "plt.show\n",
    "\n",
    "print(cutoff_counts)\n",
    "select.head(5)"
   ]
  },
  {
   "cell_type": "markdown",
   "metadata": {},
   "source": [
    "### Copying the selected files"
   ]
  },
  {
   "cell_type": "code",
   "execution_count": 69,
   "metadata": {},
   "outputs": [
    {
     "name": "stdout",
     "output_type": "stream",
     "text": [
      "cp ./out/EHEE_rd4_0464_S1.pdb ./out/EEEH_3.2_02_S1.pdb ./out/EHEE_rd4_0158_S1.pdb ./out/EHEE_rd4_0938_S1.pdb ./selected\n"
     ]
    }
   ],
   "source": [
    "cmd = r\"cp \"+ ''.join('./out/' + final_select['description'] + \".pdb \") + './selected'\n",
    "output = sp.run(cmd, shell=True, capture_output=True, text=True)\n",
    "print(cmd)"
   ]
  },
  {
   "cell_type": "code",
   "execution_count": null,
   "metadata": {},
   "outputs": [],
   "source": []
  }
 ],
 "metadata": {
  "kernelspec": {
   "display_name": "Python 3",
   "language": "python",
   "name": "python3"
  },
  "language_info": {
   "codemirror_mode": {
    "name": "ipython",
    "version": 3
   },
   "file_extension": ".py",
   "mimetype": "text/x-python",
   "name": "python",
   "nbconvert_exporter": "python",
   "pygments_lexer": "ipython3",
   "version": "3.8.5"
  }
 },
 "nbformat": 4,
 "nbformat_minor": 2
}
